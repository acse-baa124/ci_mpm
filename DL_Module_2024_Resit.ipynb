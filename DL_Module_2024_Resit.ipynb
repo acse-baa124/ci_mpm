{
  "cells": [
    {
      "cell_type": "markdown",
      "metadata": {
        "id": "PoD2-TjHu-R8"
      },
      "source": [
        "<img src=\"https://drive.google.com/uc?id=1YLNtm8gNsviTEnVXzfiby2VMKrc0XzLP\" width=\"500\"/>\n",
        "\n",
        "---\n"
      ]
    },
    {
      "cell_type": "markdown",
      "metadata": {
        "id": "wejcKjnJDkx-"
      },
      "source": [
        "# Task 1\n",
        "## 1.1 Download and prepare MNIST\n",
        "\n",
        "Download MNIST and prepare it as you see fit to be used in the following sections. Explain what you do at each step and **WHY** you do it.\n"
      ]
    },
    {
      "cell_type": "code",
      "execution_count": 4,
      "metadata": {
        "id": "V2auK8fSDlIy",
        "colab": {
          "base_uri": "https://localhost:8080/"
        },
        "outputId": "863f2037-67ec-465f-d132-b0d095b193c4"
      },
      "outputs": [
        {
          "output_type": "stream",
          "name": "stdout",
          "text": [
            "No GPU available!\n"
          ]
        }
      ],
      "source": [
        "# Add as many text and code blocks as needed to answer the question here\n",
        "\n",
        "import torch\n",
        "import torch.nn as nn\n",
        "import torch.nn.functional as F\n",
        "from torch.autograd import Variable\n",
        "from torch.utils.data import TensorDataset, DataLoader\n",
        "import torchvision.transforms as transforms\n",
        "from torchvision.datasets import MNIST\n",
        "\n",
        "import random\n",
        "def set_seed(seed):\n",
        "    \"\"\"\n",
        "    Use this to set ALL the random seeds to a fixed value and take out any randomness from cuda kernels\n",
        "    \"\"\"\n",
        "    random.seed(seed)\n",
        "    np.random.seed(seed)\n",
        "    torch.manual_seed(seed)\n",
        "    torch.cuda.manual_seed_all(seed)\n",
        "\n",
        "    torch.backends.cudnn.benchmark = False  ##uses the inbuilt cudnn auto-tuner to find the fastest convolution algorithms. -\n",
        "    torch.backends.cudnn.enabled   = False\n",
        "\n",
        "    return True\n",
        "\n",
        "device = 'cpu'\n",
        "if torch.cuda.device_count() > 0 and torch.cuda.is_available():\n",
        "    print(\"Cuda installed! Running on GPU!\")\n",
        "    device = 'cuda'\n",
        "else:\n",
        "    print(\"No GPU available!\")"
      ]
    },
    {
      "cell_type": "code",
      "source": [
        "transform = transforms.Compose([\n",
        "    transforms.ToTensor(),\n",
        "    transforms.Normalize(mean=(0.5), std=(0.5))]) # The original implementation of GANs scales the data\n",
        "                                                  # between [-1, 1]. We do that through the normalise transform.\n",
        "                                                  # Removing 0.5 from the data scales the data from [0, 1] to [-0.5, 0.5]\n",
        "                                                  # Dividing it by 0.5 scales the data from [-0.5, 0.5] to [-1, 1]\n",
        "\n",
        "train_dataset = MNIST(root='./mnist_data/', train=True, transform=transform, download=True)\n",
        "test_dataset = MNIST(root='./mnist_data/', train=False, transform=transform, download=True)\n",
        "#taken from lectures on day 7"
      ],
      "metadata": {
        "id": "Bceu8z5xn-X5"
      },
      "execution_count": 6,
      "outputs": []
    },
    {
      "cell_type": "markdown",
      "metadata": {
        "id": "s3OdgYjEDxFt"
      },
      "source": [
        "## 1.2 Modify your prepared dataset as follows:\n",
        "\n",
        "- flip horizontally half the images in both the train and test datasets.\n",
        "- modify the labels to reflect if the images are original or flipped.\n",
        "\n",
        "There are several ways to do this, and more than one right way to do it. Explain your implementation choices for these MNIST modifications."
      ]
    },
    {
      "cell_type": "code",
      "execution_count": 26,
      "metadata": {
        "id": "GfkKbVlnDzTi"
      },
      "outputs": [],
      "source": [
        "def flip_half_dataset(dataset):\n",
        "    images = []\n",
        "    labels = []\n",
        "\n",
        "    indices = list(range(len(dataset)))\n",
        "    flip_indices = set(random.sample(indices, len(indices) // 2))\n",
        "\n",
        "    for i, (img, label) in enumerate(dataset):\n",
        "        if i in flip_indices:\n",
        "            flipped_img = transforms.functional.hflip(img)\n",
        "            images.append(flipped_img)\n",
        "            labels.append((label, 1)) #label * 2 + 1\n",
        "        else:\n",
        "            images.append(img)\n",
        "            labels.append((label, 0)) #label * 2\n",
        "\n",
        "    return TensorDataset(torch.stack(images), torch.tensor(labels))"
      ]
    },
    {
      "cell_type": "markdown",
      "source": [
        "\n",
        "\n",
        "*  random.sample() to randomly select exactly half the indices to flip\n",
        "*  an easy way to reflect the changes in labelling is to make labels even if they are original and odd if they are modified(flipped).\n",
        "\n"
      ],
      "metadata": {
        "id": "lwCtHklUqd9w"
      }
    },
    {
      "cell_type": "code",
      "source": [
        "flip_train_dataset = flip_half_dataset(train_dataset)\n",
        "flip_test_dataset = flip_half_dataset(test_dataset)\n",
        "\n",
        "# print(f\"Train dataset size: {len(flip_train_dataset)} (same as original)\")\n",
        "# print(f\"Test dataset size: {len(flip_test_dataset)} (same as original)\")\n",
        "\n",
        "# # Check the flipping distribution\n",
        "# train_labels = [flip_train_dataset[i][1].item() for i in range(len(flip_train_dataset))]\n",
        "# flipped_count = sum(1 for label in train_labels if label % 2 == 1)\n",
        "# print(f\"Flipped images in train: {flipped_count} out of {len(flip_train_dataset)}\")"
      ],
      "metadata": {
        "id": "9yESTgAOp4IS"
      },
      "execution_count": 28,
      "outputs": []
    },
    {
      "cell_type": "markdown",
      "metadata": {
        "id": "2-OEl6kxEAHo"
      },
      "source": [
        "## 1.3 Split the dataset\n",
        "\n",
        "Split the data as you see fit, so that you can use it in the following sections.\n",
        "\n",
        "Plot a few samples with their new corresponding labels."
      ]
    },
    {
      "cell_type": "code",
      "source": [
        "import torch\n",
        "from torch.utils.data import DataLoader, random_split\n",
        "import matplotlib.pyplot as plt\n",
        "import numpy as np"
      ],
      "metadata": {
        "id": "MH3K27hFrb26"
      },
      "execution_count": 29,
      "outputs": []
    },
    {
      "cell_type": "code",
      "execution_count": 30,
      "metadata": {
        "id": "W7zDMt6bEDHP",
        "colab": {
          "base_uri": "https://localhost:8080/"
        },
        "outputId": "9f045a14-2f63-40ef-88fc-ec47fa48970a"
      },
      "outputs": [
        {
          "output_type": "stream",
          "name": "stdout",
          "text": [
            "Training set size: 48000\n",
            "Validation set size: 12000\n",
            "Test set size: 10000\n"
          ]
        }
      ],
      "source": [
        "train_size = int(0.8 * len(flip_train_dataset))\n",
        "val_size = len(flip_train_dataset) - train_size\n",
        "\n",
        "train_split, val_split = random_split(flip_train_dataset, [train_size, val_size])\n",
        "\n",
        "batch_size = 64\n",
        "train_loader = DataLoader(train_split, batch_size=batch_size, shuffle=True)\n",
        "val_loader = DataLoader(val_split, batch_size=batch_size, shuffle=False)\n",
        "test_loader = DataLoader(flip_test_dataset, batch_size=batch_size, shuffle=False)\n",
        "\n",
        "print(f\"Training set size: {len(train_split)}\")\n",
        "print(f\"Validation set size: {len(val_split)}\")\n",
        "print(f\"Test set size: {len(flip_test_dataset)}\")"
      ]
    },
    {
      "cell_type": "code",
      "source": [
        "def denormalize(tensor):\n",
        "    return (tensor * 0.5) + 0.5\n",
        "\n",
        "def plot_samples(dataset, num_samples=12):\n",
        "    fig, axes = plt.subplots(3, 4, figsize=(12, 9))\n",
        "    axes = axes.ravel()\n",
        "\n",
        "    indices = np.random.choice(len(dataset), num_samples, replace=False)\n",
        "\n",
        "    for i, idx in enumerate(indices):\n",
        "        img, label = dataset[idx]\n",
        "\n",
        "        img_np = denormalize(img).squeeze().numpy()\n",
        "\n",
        "        # Extract from tuple: (original_digit, flip_status)\n",
        "        original_digit = label[0].item()\n",
        "        is_flipped = label[1].item() == 1\n",
        "\n",
        "        axes[i].imshow(img_np, cmap='gray')\n",
        "        axes[i].set_title(f'Digit: {original_digit}\\n{\"Flipped\" if is_flipped else \"Original\"}\\nLabel: {label}')\n",
        "        axes[i].axis('off')\n",
        "\n",
        "    plt.tight_layout()\n",
        "    plt.suptitle('MNIST Samples with Original/Flipped Labels', y=1.02, fontsize=16)\n",
        "    plt.show()"
      ],
      "metadata": {
        "id": "oY0OJb3Wssgl"
      },
      "execution_count": 36,
      "outputs": []
    },
    {
      "cell_type": "code",
      "source": [
        "idx = 1  # or whatever index showed the wrong result\n",
        "original_img, original_label = train_dataset[idx]\n",
        "modified_img, modified_label = flip_train_dataset[idx]\n",
        "\n",
        "print(f\"Original label: {original_label}\")\n",
        "print(f\"Modified label: {modified_label}\")\n",
        "print(f\"Decoded digit: {modified_label // 2}\")\n",
        "print(f\"Is flipped: {modified_label % 2 == 1}\")\n",
        "\n",
        "# Plot both to compare\n",
        "fig, (ax1, ax2) = plt.subplots(1, 2, figsize=(8, 4))\n",
        "ax1.imshow(denormalize(original_img).squeeze(), cmap='gray')\n",
        "ax1.set_title(f'Original: {original_label}')\n",
        "ax2.imshow(denormalize(modified_img).squeeze(), cmap='gray')\n",
        "ax2.set_title(f'Modified: {modified_label}')\n",
        "plt.show()"
      ],
      "metadata": {
        "id": "yl0UhFjmuYaP",
        "outputId": "de9e8b81-22fe-4648-e866-600b100b5fcc",
        "colab": {
          "base_uri": "https://localhost:8080/",
          "height": 435
        }
      },
      "execution_count": 34,
      "outputs": [
        {
          "output_type": "stream",
          "name": "stdout",
          "text": [
            "Original label: 0\n",
            "Modified label: tensor([0, 1])\n",
            "Decoded digit: tensor([0, 0])\n",
            "Is flipped: tensor([False,  True])\n"
          ]
        },
        {
          "output_type": "display_data",
          "data": {
            "text/plain": [
              "<Figure size 800x400 with 2 Axes>"
            ],
            "image/png": "[encoded data removed]"
          },
          "metadata": {}
        }
      ]
    },
    {
      "cell_type": "code",
      "source": [
        "print(\"Training Set Samples:\")\n",
        "plot_samples(train_split)\n",
        "\n",
        "# Plot samples from test set\n",
        "print(\"\\nTest Set Samples:\")\n",
        "plot_samples(flip_test_dataset)"
      ],
      "metadata": {
        "id": "qUWpAnw4s76d",
        "outputId": "6abb7530-ab15-48a7-d1e0-6eee9702dea4",
        "colab": {
          "base_uri": "https://localhost:8080/",
          "height": 1000
        }
      },
      "execution_count": 38,
      "outputs": [
        {
          "output_type": "stream",
          "name": "stdout",
          "text": [
            "Training Set Samples:\n"
          ]
        },
        {
          "output_type": "display_data",
          "data": {
            "text/plain": [
              "<Figure size 1200x900 with 12 Axes>"
            ],
            "image/png": "[encoded data removed]"
          },
          "metadata": {}
        },
        {
          "output_type": "stream",
          "name": "stdout",
          "text": [
            "\n",
            "Test Set Samples:\n"
          ]
        },
        {
          "output_type": "display_data",
          "data": {
            "text/plain": [
              "<Figure size 1200x900 with 12 Axes>"
            ],
            "image/png": "[encoded data removed]"
          },
          "metadata": {}
        }
      ]
    },
    {
      "cell_type": "markdown",
      "metadata": {
        "id": "KrC8q88KEJ5c"
      },
      "source": [
        "## 1.4 Implement a CNN classifier\n",
        "\n",
        "The classifier should output whether a sample (MNIST image) is flipped or not.\n",
        "\n",
        "Provide evidence of the performance of your classifier (training curves, confusion matrices, and anything else you think is pertinent) and discuss what the evidence is telling you about your chosen model, the dataset, and the training."
      ]
    },
    {
      "cell_type": "code",
      "execution_count": 40,
      "metadata": {
        "id": "ZZVbRzO2EMJf"
      },
      "outputs": [],
      "source": [
        "import torch.nn as nn\n",
        "import torch.optim as optim\n",
        "import torch.nn.functional as F\n",
        "from sklearn.metrics import confusion_matrix, classification_report\n",
        "import seaborn as sns\n",
        "import matplotlib.pyplot as plt\n",
        "import numpy as np\n"
      ]
    },
    {
      "cell_type": "code",
      "source": [
        "class CNN(nn.Module):\n",
        "  def __init__(self):\n",
        "    super(CNN, self).__init__()\n",
        "    self.conv1 = nn.Conv2d(1, 32, kernel_size=3, padding=1)\n",
        "    self.conv2 = nn.Conv2d(32, 64, kernel_size=3, padding=1)\n",
        "    self.conv3 = nn.Conv2d(64, 128, kernel_size=3, padding=1)\n",
        "\n",
        "    self.pool = nn.MaxPool2d(2, 2)\n",
        "    self.dropout = nn.Dropout(0.5)\n",
        "\n",
        "    self.fc1 = nn.Linear(128 * 3 * 3, 256)\n",
        "    self.fc2 = nn.Linear(256, 128)\n",
        "    self.fc3 = nn.Linear(128, 2)\n",
        "\n",
        "  def forward(self, x):\n",
        "    x = self.pool(F.relu(self.conv1(x)))  # 32x14x14\n",
        "    x = self.pool(F.relu(self.conv2(x)))  # 64x7x7\n",
        "    x = self.pool(F.relu(self.conv3(x)))  # 128x3x3\n",
        "\n",
        "    x = x.view(-1, 128 * 3 * 3)  # Flatten\n",
        "    x = F.relu(self.fc1(x))\n",
        "    x = self.dropout(x)\n",
        "    x = F.relu(self.fc2(x))\n",
        "    x = self.dropout(x)\n",
        "    x = self.fc3(x)\n",
        "\n",
        "    return x"
      ],
      "metadata": {
        "id": "u0Hsdg0iw0ip"
      },
      "execution_count": 43,
      "outputs": []
    },
    {
      "cell_type": "code",
      "source": [
        "device = torch.device('cuda' if torch.cuda.is_available() else 'cpu')\n",
        "model = CNN().to(device)\n",
        "criterion = nn.CrossEntropyLoss()\n",
        "optimizer = optim.Adam(model.parameters(), lr=0.001, weight_decay=1e-4)\n",
        "\n",
        "print(f\"Using device: {device}\")\n",
        "print(f\"Model parameters: {sum(p.numel() for p in model.parameters()):,}\")"
      ],
      "metadata": {
        "id": "RqOGa8_5xcT8",
        "outputId": "fa25f3a0-b6c7-479e-9dc2-7071e13f2d62",
        "colab": {
          "base_uri": "https://localhost:8080/"
        }
      },
      "execution_count": 44,
      "outputs": [
        {
          "output_type": "stream",
          "name": "stdout",
          "text": [
            "Using device: cpu\n",
            "Model parameters: 420,994\n"
          ]
        }
      ]
    },
    {
      "cell_type": "code",
      "source": [
        "def create_flip_loader(dataset, batch_size, shuffle=True):\n",
        "    flip_data = []\n",
        "    flip_labels = []\n",
        "\n",
        "    for img, label in dataset:\n",
        "        flip_data.append(img)\n",
        "        flip_labels.append(label[1].item())\n",
        "\n",
        "    flip_dataset = torch.utils.data.TensorDataset(torch.stack(flip_data), torch.tensor(flip_labels, dtype=torch.long))\n",
        "    return torch.utils.data.DataLoader(flip_dataset, batch_size=batch_size, shuffle=shuffle)"
      ],
      "metadata": {
        "id": "nrJD6oGGxdEn"
      },
      "execution_count": 45,
      "outputs": []
    },
    {
      "cell_type": "code",
      "source": [
        "flip_train_loader = create_flip_loader(train_split, batch_size=64, shuffle=True)\n",
        "flip_val_loader = create_flip_loader(val_split, batch_size=64, shuffle=False)\n",
        "flip_test_loader = create_flip_loader(flip_test_dataset, batch_size=64, shuffle=False)"
      ],
      "metadata": {
        "id": "GdJ7CtD9ynAR"
      },
      "execution_count": 46,
      "outputs": []
    },
    {
      "cell_type": "code",
      "source": [
        "def train_epoch(model, loader, criterion, optimizer, device):\n",
        "    model.train()\n",
        "    total_loss = 0\n",
        "    correct = 0\n",
        "    total = 0\n",
        "\n",
        "    for images, labels in loader:\n",
        "        images, labels = images.to(device), labels.to(device)\n",
        "\n",
        "        optimizer.zero_grad()\n",
        "        outputs = model(images)\n",
        "        loss = criterion(outputs, labels)\n",
        "        loss.backward()\n",
        "        optimizer.step()\n",
        "\n",
        "        total_loss += loss.item()\n",
        "        _, predicted = torch.max(outputs.data, 1)\n",
        "        total += labels.size(0)\n",
        "        correct += (predicted == labels).sum().item()\n",
        "\n",
        "    return total_loss / len(loader), 100 * correct / total\n",
        "\n",
        "def validate(model, loader, criterion, device):\n",
        "    model.eval()\n",
        "    total_loss = 0\n",
        "    correct = 0\n",
        "    total = 0\n",
        "    all_preds = []\n",
        "    all_labels = []\n",
        "\n",
        "    with torch.no_grad():\n",
        "        for images, labels in loader:\n",
        "            images, labels = images.to(device), labels.to(device)\n",
        "            outputs = model(images)\n",
        "            loss = criterion(outputs, labels)\n",
        "\n",
        "            total_loss += loss.item()\n",
        "            _, predicted = torch.max(outputs.data, 1)\n",
        "            total += labels.size(0)\n",
        "            correct += (predicted == labels).sum().item()\n",
        "\n",
        "            all_preds.extend(predicted.cpu().numpy())\n",
        "            all_labels.extend(labels.cpu().numpy())\n",
        "\n",
        "    return total_loss / len(loader), 100 * correct / total, all_preds, all_labels"
      ],
      "metadata": {
        "id": "uCLG6ZjeystG"
      },
      "execution_count": 47,
      "outputs": []
    },
    {
      "cell_type": "code",
      "source": [
        "num_epochs = 20\n",
        "train_losses = []\n",
        "train_accs = []\n",
        "val_losses = []\n",
        "val_accs = []\n",
        "\n",
        "print(\"Starting training...\")\n",
        "for epoch in range(num_epochs):\n",
        "    train_loss, train_acc = train_epoch(model, flip_train_loader, criterion, optimizer, device)\n",
        "    val_loss, val_acc, _, _ = validate(model, flip_val_loader, criterion, device)\n",
        "\n",
        "    train_losses.append(train_loss)\n",
        "    train_accs.append(train_acc)\n",
        "    val_losses.append(val_loss)\n",
        "    val_accs.append(val_acc)\n",
        "\n",
        "    print(f'Epoch [{epoch+1}/{num_epochs}]')\n",
        "    print(f'Train Loss: {train_loss:.4f}, Train Acc: {train_acc:.2f}%')\n",
        "    print(f'Val Loss: {val_loss:.4f}, Val Acc: {val_acc:.2f}%')\n",
        "    print('-' * 50)"
      ],
      "metadata": {
        "id": "L_o-7rR7y1Vq",
        "outputId": "cbbce5fe-57a4-4f5c-974a-0de78833baad",
        "colab": {
          "base_uri": "https://localhost:8080/"
        }
      },
      "execution_count": 48,
      "outputs": [
        {
          "output_type": "stream",
          "name": "stdout",
          "text": [
            "Starting training...\n",
            "Epoch [1/20]\n",
            "Train Loss: 0.1055, Train Acc: 95.64%\n",
            "Val Loss: 0.0514, Val Acc: 98.04%\n",
            "--------------------------------------------------\n",
            "Epoch [2/20]\n",
            "Train Loss: 0.0454, Train Acc: 98.42%\n",
            "Val Loss: 0.0242, Val Acc: 99.08%\n",
            "--------------------------------------------------\n",
            "Epoch [3/20]\n",
            "Train Loss: 0.0363, Train Acc: 98.72%\n",
            "Val Loss: 0.0237, Val Acc: 99.17%\n",
            "--------------------------------------------------\n",
            "Epoch [4/20]\n",
            "Train Loss: 0.0330, Train Acc: 98.81%\n",
            "Val Loss: 0.0262, Val Acc: 99.08%\n",
            "--------------------------------------------------\n",
            "Epoch [5/20]\n",
            "Train Loss: 0.0310, Train Acc: 98.96%\n",
            "Val Loss: 0.0529, Val Acc: 98.12%\n",
            "--------------------------------------------------\n",
            "Epoch [6/20]\n",
            "Train Loss: 0.0281, Train Acc: 99.03%\n",
            "Val Loss: 0.0238, Val Acc: 99.10%\n",
            "--------------------------------------------------\n",
            "Epoch [7/20]\n",
            "Train Loss: 0.0253, Train Acc: 99.13%\n",
            "Val Loss: 0.0252, Val Acc: 99.02%\n",
            "--------------------------------------------------\n",
            "Epoch [8/20]\n",
            "Train Loss: 0.0245, Train Acc: 99.18%\n",
            "Val Loss: 0.0198, Val Acc: 99.28%\n",
            "--------------------------------------------------\n",
            "Epoch [9/20]\n",
            "Train Loss: 0.0230, Train Acc: 99.20%\n",
            "Val Loss: 0.0282, Val Acc: 99.01%\n",
            "--------------------------------------------------\n",
            "Epoch [10/20]\n",
            "Train Loss: 0.0197, Train Acc: 99.30%\n",
            "Val Loss: 0.0267, Val Acc: 98.99%\n",
            "--------------------------------------------------\n",
            "Epoch [11/20]\n",
            "Train Loss: 0.0212, Train Acc: 99.26%\n",
            "Val Loss: 0.0363, Val Acc: 99.03%\n",
            "--------------------------------------------------\n",
            "Epoch [12/20]\n",
            "Train Loss: 0.0211, Train Acc: 99.28%\n",
            "Val Loss: 0.0281, Val Acc: 99.15%\n",
            "--------------------------------------------------\n",
            "Epoch [13/20]\n",
            "Train Loss: 0.0184, Train Acc: 99.38%\n",
            "Val Loss: 0.0236, Val Acc: 99.13%\n",
            "--------------------------------------------------\n",
            "Epoch [14/20]\n",
            "Train Loss: 0.0179, Train Acc: 99.41%\n",
            "Val Loss: 0.0262, Val Acc: 99.22%\n",
            "--------------------------------------------------\n",
            "Epoch [15/20]\n",
            "Train Loss: 0.0189, Train Acc: 99.31%\n",
            "Val Loss: 0.0367, Val Acc: 98.79%\n",
            "--------------------------------------------------\n",
            "Epoch [16/20]\n",
            "Train Loss: 0.0186, Train Acc: 99.38%\n",
            "Val Loss: 0.0197, Val Acc: 99.30%\n",
            "--------------------------------------------------\n",
            "Epoch [17/20]\n",
            "Train Loss: 0.0155, Train Acc: 99.42%\n",
            "Val Loss: 0.0270, Val Acc: 99.28%\n",
            "--------------------------------------------------\n",
            "Epoch [18/20]\n",
            "Train Loss: 0.0167, Train Acc: 99.43%\n",
            "Val Loss: 0.0340, Val Acc: 98.72%\n",
            "--------------------------------------------------\n",
            "Epoch [19/20]\n",
            "Train Loss: 0.0154, Train Acc: 99.48%\n",
            "Val Loss: 0.0288, Val Acc: 99.01%\n",
            "--------------------------------------------------\n",
            "Epoch [20/20]\n",
            "Train Loss: 0.0142, Train Acc: 99.49%\n",
            "Val Loss: 0.0347, Val Acc: 98.96%\n",
            "--------------------------------------------------\n"
          ]
        }
      ]
    },
    {
      "cell_type": "markdown",
      "metadata": {
        "id": "7ETlybgnEQXq"
      },
      "source": [
        "## 1.5 Hyperparameter strategy\n",
        "\n",
        "Choose one hyperparameter to tune with three different values. Why did you choose this hyperparameter?\n",
        "\n",
        "If you had more time, what other hyperparameters would you explore to improve the performance of your network? Choose two."
      ]
    },
    {
      "cell_type": "code",
      "execution_count": null,
      "metadata": {
        "id": "vvgbHfuaETAH",
        "colab": {
          "base_uri": "https://localhost:8080/"
        },
        "outputId": "d7f10282-6503-4044-a531-be97e0eb7ec2"
      },
      "outputs": [
        {
          "output_type": "stream",
          "name": "stdout",
          "text": [
            "\n",
            "==================================================\n",
            "Training with Learning Rate: 0.0001\n",
            "==================================================\n",
            "Epoch [3/10] - Train Acc: 98.47%, Val Acc: 98.92%\n",
            "Epoch [6/10] - Train Acc: 99.03%, Val Acc: 99.10%\n",
            "Epoch [9/10] - Train Acc: 99.30%, Val Acc: 99.37%\n",
            "Final Test Accuracy: 99.33%\n",
            "\n",
            "==================================================\n",
            "Training with Learning Rate: 0.001\n",
            "==================================================\n"
          ]
        }
      ],
      "source": [
        "learning_rates = [0.0001, 0.001, 0.01]\n",
        "results = {}\n",
        "\n",
        "for lr in learning_rates:\n",
        "    print(f\"\\n{'='*50}\")\n",
        "    print(f\"Training with Learning Rate: {lr}\")\n",
        "    print(f\"{'='*50}\")\n",
        "\n",
        "    model = CNN().to(device)\n",
        "    criterion = nn.CrossEntropyLoss()\n",
        "    optimizer = optim.Adam(model.parameters(), lr=lr, weight_decay=1e-4)\n",
        "\n",
        "    train_losses = []\n",
        "    train_accs = []\n",
        "    val_losses = []\n",
        "    val_accs = []\n",
        "\n",
        "    num_epochs = 10\n",
        "\n",
        "    for epoch in range(num_epochs):\n",
        "        train_loss, train_acc = train_epoch(model, flip_train_loader, criterion, optimizer, device)\n",
        "        val_loss, val_acc, _, _ = validate(model, flip_val_loader, criterion, device)\n",
        "\n",
        "        train_losses.append(train_loss)\n",
        "        train_accs.append(train_acc)\n",
        "        val_losses.append(val_loss)\n",
        "        val_accs.append(val_acc)\n",
        "\n",
        "        if (epoch + 1) % 3 == 0:\n",
        "            print(f'Epoch [{epoch+1}/{num_epochs}] - Train Acc: {train_acc:.2f}%, Val Acc: {val_acc:.2f}%')\n",
        "\n",
        "    test_loss, test_acc, _, _ = validate(model, flip_test_loader, criterion, device)\n",
        "\n",
        "    results[lr] = {\n",
        "        'train_losses': train_losses,\n",
        "        'train_accs': train_accs,\n",
        "        'val_losses': val_losses,\n",
        "        'val_accs': val_accs,\n",
        "        'final_test_acc': test_acc,\n",
        "        'final_val_acc': val_accs[-1]\n",
        "    }\n",
        "\n",
        "    print(f'Final Test Accuracy: {test_acc:.2f}%')"
      ]
    },
    {
      "cell_type": "code",
      "source": [
        "fig, axes = plt.subplots(2, 2, figsize=(15, 10))\n",
        "\n",
        "colors = ['blue', 'red', 'green']\n",
        "for i, lr in enumerate(learning_rates):\n",
        "    # Training Loss\n",
        "    axes[0,0].plot(results[lr]['train_losses'], color=colors[i], label=f'LR={lr}', marker='o')\n",
        "    # Validation Loss\n",
        "    axes[0,1].plot(results[lr]['val_losses'], color=colors[i], label=f'LR={lr}', marker='s')\n",
        "    # Training Accuracy\n",
        "    axes[1,0].plot(results[lr]['train_accs'], color=colors[i], label=f'LR={lr}', marker='o')\n",
        "    # Validation Accuracy\n",
        "    axes[1,1].plot(results[lr]['val_accs'], color=colors[i], label=f'LR={lr}', marker='s')\n",
        "\n",
        "axes[0,0].set_title('Training Loss')\n",
        "axes[0,0].set_ylabel('Loss')\n",
        "axes[0,0].legend()\n",
        "axes[0,0].grid(True)\n",
        "\n",
        "axes[0,1].set_title('Validation Loss')\n",
        "axes[0,1].set_ylabel('Loss')\n",
        "axes[0,1].legend()\n",
        "axes[0,1].grid(True)\n",
        "\n",
        "axes[1,0].set_title('Training Accuracy')\n",
        "axes[1,0].set_xlabel('Epoch')\n",
        "axes[1,0].set_ylabel('Accuracy (%)')\n",
        "axes[1,0].legend()\n",
        "axes[1,0].grid(True)\n",
        "\n",
        "axes[1,1].set_title('Validation Accuracy')\n",
        "axes[1,1].set_xlabel('Epoch')\n",
        "axes[1,1].set_ylabel('Accuracy (%)')\n",
        "axes[1,1].legend()\n",
        "axes[1,1].grid(True)\n",
        "\n",
        "plt.tight_layout()\n",
        "plt.show()\n",
        "\n",
        "# Summary table\n",
        "print(\"\\n\" + \"=\"*60)\n",
        "print(\"LEARNING RATE COMPARISON SUMMARY\")\n",
        "print(\"=\"*60)\n",
        "print(f\"{'Learning Rate':<15} {'Final Val Acc':<15} {'Final Test Acc':<15}\")\n",
        "print(\"-\"*45)\n",
        "for lr in learning_rates:\n",
        "    val_acc = results[lr]['final_val_acc']\n",
        "    test_acc = results[lr]['final_test_acc']\n",
        "    print(f\"{lr:<15} {val_acc:<15.2f} {test_acc:<15.2f}\")"
      ],
      "metadata": {
        "id": "qgXh2jbrFDgg"
      },
      "execution_count": null,
      "outputs": []
    },
    {
      "cell_type": "markdown",
      "source": [
        "I chose Learning Rate since it has a direct impact on convergence. Too high and the model overshoots optimal weights, too low and training is very slow.\n",
        "The effects are easily observed as you can immediately see the impact in training curves. In addition, it affects both training speed and final performance quality.\n",
        "\n",
        "If I had more time, I would explore these two additional hyperparameters:\n",
        "\n",
        "Dropout Rate since it controls overfitting vs underfitting balance.\n",
        "\n",
        "Batch Size since it affects gradient estimation quality and training stability. Smaller batches provide more frequent updates but noisier gradients while larger batches give smoother training but slower convergence. In addition, it can significantly impact final performance."
      ],
      "metadata": {
        "id": "iDHmgYUzGPyk"
      }
    },
    {
      "cell_type": "markdown",
      "metadata": {
        "id": "tSPkIADQFc4j"
      },
      "source": [
        "---"
      ]
    },
    {
      "cell_type": "markdown",
      "metadata": {
        "id": "kQZtHf7jEZHn"
      },
      "source": [
        "# Task 2\n",
        "\n",
        "## 2.1 Generative modelling\n",
        "\n",
        "Use the MNIST dataset you created in task 1 to implement two generative models (you can reuse code from the lectures): a VAE, and a GAN.\n",
        "\n",
        "Once implemented, train each of them for 10 mins (a few epochs). Use the models to generate new samples (they do not need to be good, of course) and plot them."
      ]
    },
    {
      "cell_type": "code",
      "execution_count": null,
      "metadata": {
        "id": "V3iJ6rxwEd4b"
      },
      "outputs": [],
      "source": [
        "class Generator(nn.Module):\n",
        "    def __init__(self, g_input_dim, g_output_dim):\n",
        "        super().__init__()\n",
        "        self.fc1 = nn.Linear(g_input_dim, 256)\n",
        "        self.fc2 = nn.Linear(self.fc1.out_features, self.fc1.out_features*2)\n",
        "        self.fc3 = nn.Linear(self.fc2.out_features, self.fc2.out_features*2)\n",
        "        self.fc4 = nn.Linear(self.fc3.out_features, g_output_dim)\n",
        "        self.activation = nn.LeakyReLU(0.2)\n",
        "\n",
        "    # forward method\n",
        "    def forward(self, z):\n",
        "        x = self.activation(self.fc1(z))\n",
        "        x = self.activation(self.fc2(x))\n",
        "        x = self.activation(self.fc3(x))\n",
        "        return torch.tanh(self.fc4(x)) # Our input is in the range [-1, 1]\n",
        "\n",
        "class Discriminator(nn.Module):\n",
        "    def __init__(self, d_input_dim):\n",
        "        super().__init__()\n",
        "        self.fc1 = nn.Linear(d_input_dim, 1024)\n",
        "        self.fc2 = nn.Linear(self.fc1.out_features, self.fc1.out_features//2)\n",
        "        self.fc3 = nn.Linear(self.fc2.out_features, self.fc2.out_features//2)\n",
        "        self.fc4 = nn.Linear(self.fc3.out_features, 1)\n",
        "        self.activation = nn.LeakyReLU(0.2)\n",
        "        self.dropout = nn.Dropout(0.3) # We regularise the discriminator by adding dropout so it doesn't memorise\n",
        "                                       # the training data\n",
        "\n",
        "    # forward method\n",
        "    def forward(self, x):\n",
        "        x = self.activation(self.fc1(x))\n",
        "        x = self.dropout(x)\n",
        "        x = self.activation(self.fc2(x))\n",
        "        x = self.dropout(x)\n",
        "        x = self.activation(self.fc3(x))\n",
        "        x = self.dropout(x)\n",
        "        return torch.sigmoid(self.fc4(x)) # Our discriminator is a binary classifier with probability between [0, 1]\n",
        "\n",
        "\n",
        "# Instantiate model and send to device\n",
        "z_dim = 128\n",
        "x_dim = 28*28\n",
        "G = Generator(z_dim, x_dim).to(device)\n",
        "D = Discriminator(x_dim).to(device)\n",
        "\n",
        "G(torch.randn(10, z_dim).to(device)).shape, D(torch.randn(10, x_dim).to(device)).shape"
      ]
    },
    {
      "cell_type": "code",
      "source": [
        "lr = 0.0002\n",
        "G_optimiser = torch.optim.Adam(G.parameters(), lr=lr)\n",
        "D_optimiser = torch.optim.Adam(D.parameters(), lr=lr)"
      ],
      "metadata": {
        "id": "HtrBbSspI-r3"
      },
      "execution_count": null,
      "outputs": []
    },
    {
      "cell_type": "code",
      "source": [
        "def D_train(x):\n",
        "    #-------------- Function of the discriminator training -------------------#\n",
        "    D.train(), G.eval()\n",
        "    D_optimiser.zero_grad()\n",
        "\n",
        "    bs = x.shape[0]\n",
        "\n",
        "    # Real data reshaped -- label for all real samples is 1\n",
        "    x_real, y_real = x.view(-1, 28*28), torch.ones(bs, 1)\n",
        "    x_real, y_real = x_real.to(device), y_real.to(device)\n",
        "\n",
        "    # Training loss for real data\n",
        "    D_output = D(x_real)\n",
        "    D_real_loss = criterion(D_output, y_real)\n",
        "\n",
        "    # Sample vector and generation of fake data -- label for all fake samples is 0\n",
        "    z = torch.randn(bs, z_dim).to(device)\n",
        "    x_fake, y_fake = G(z), torch.zeros(bs, 1).to(device)\n",
        "\n",
        "    # Training loss for fake data\n",
        "    D_output = D(x_fake.detach())\n",
        "    D_fake_loss = criterion(D_output, y_fake)\n",
        "\n",
        "    # Combine the losses\n",
        "    D_loss = D_real_loss + D_fake_loss\n",
        "\n",
        "    # Backpropagate and model update\n",
        "    D_loss.backward()\n",
        "    D_optimiser.step()\n",
        "\n",
        "    return D_loss.item()"
      ],
      "metadata": {
        "id": "jPxEyNZ3JC5K"
      },
      "execution_count": null,
      "outputs": []
    },
    {
      "cell_type": "code",
      "source": [
        "def G_train(x):\n",
        "    #-------------- Function of the generator training -------------------#\n",
        "    G.train()\n",
        "    G_optimiser.zero_grad()\n",
        "\n",
        "    bs = x.shape[0]\n",
        "\n",
        "    # Sample vector and generation of fake data\n",
        "    z = torch.randn(bs, z_dim).to(device)\n",
        "    x_fake = G(z)\n",
        "\n",
        "    # To \"fool\" the discriminator, fake data labels are set to 1\n",
        "    y = torch.ones(bs, 1).to(device)\n",
        "\n",
        "    # Training loss of the generator\n",
        "    D_output = D(x_fake)\n",
        "    G_loss = criterion(D_output, y)\n",
        "\n",
        "    # Backpropagate and model update\n",
        "    G_loss.backward()\n",
        "    G_optimiser.step()\n",
        "\n",
        "    return G_loss.item()"
      ],
      "metadata": {
        "id": "j_6kHmlvJFUY"
      },
      "execution_count": null,
      "outputs": []
    },
    {
      "cell_type": "code",
      "source": [
        "\n",
        "criterion = nn.BCELoss()"
      ],
      "metadata": {
        "id": "iZcEoA6rJI0V"
      },
      "execution_count": null,
      "outputs": []
    },
    {
      "cell_type": "code",
      "source": [
        "n_epoch = 100\n",
        "groups = {'Loss': ['D_Loss', 'G_Loss']}\n",
        "liveloss = PlotLosses(groups=groups)\n",
        "\n",
        "for epoch in range(1, n_epoch+1):\n",
        "    d_loss_epoch, g_loss_epoch = 0, 0\n",
        "    logs = {}\n",
        "\n",
        "    # Loop through batch and train discriminator then generator\n",
        "    for batch_idx, (x, _) in enumerate(train_loader):\n",
        "        d_loss_epoch += D_train(x) # Train discriminator\n",
        "        g_loss_epoch += G_train(x) # Train generator\n",
        "\n",
        "    # Update logs\n",
        "    logs['D_Loss'] = d_loss_epoch / len(train_loader)\n",
        "    logs['G_Loss'] = g_loss_epoch / len(train_loader)\n",
        "    liveloss.update(logs)\n",
        "    liveloss.draw()\n",
        "\n",
        "    # Save every 20th epochs\n",
        "    if(np.mod(epoch, 20) == 0):\n",
        "        torch.save(G.state_dict(), \"./Generator_{:03d}.pth\".format(epoch))"
      ],
      "metadata": {
        "id": "XzJJfQkQJLk5"
      },
      "execution_count": null,
      "outputs": []
    },
    {
      "cell_type": "markdown",
      "metadata": {
        "id": "b0vfclFtEhDK"
      },
      "source": [
        "Then, answer the following:\n",
        "\n",
        "## 2.2\n",
        "\n",
        "What is the main idea behind a VAE? How does it generate new samples from a training dataset? Explain how it is different than a regular autoencoder, and what is the role that the KL loss term plays in it. Refer to the code you implement in 2.1 in your explanations.\n"
      ]
    },
    {
      "cell_type": "code",
      "execution_count": null,
      "metadata": {
        "id": "HzGb5qi0Em-r"
      },
      "outputs": [],
      "source": [
        "# Add as many text and code blocks as needed to answer the question here"
      ]
    },
    {
      "cell_type": "markdown",
      "metadata": {
        "id": "e6MxxaV3ElkC"
      },
      "source": [
        "## 2.3\n",
        "In GANs there are two competing networks, what role do they play in the training process? And how do they learn to generate samples differently from a VAE? Refer to the code you implement in 2.1 in your explanations.\n",
        "\n",
        "Explain why the loss evolution for generator and discriminator oscillate during training. Is there a way to clearly determine when training is complete?"
      ]
    },
    {
      "cell_type": "code",
      "execution_count": null,
      "metadata": {
        "id": "i_dVd-ngEqBE"
      },
      "outputs": [],
      "source": [
        "# Add as many text and code blocks as needed to answer the question here"
      ]
    },
    {
      "cell_type": "markdown",
      "metadata": {
        "id": "bDfgid9_Fbjn"
      },
      "source": [
        "---"
      ]
    },
    {
      "cell_type": "markdown",
      "metadata": {
        "id": "SpxtjvN-Es9k"
      },
      "source": [
        "# Task 3\n",
        "\n",
        "Answer the following questions:\n",
        "\n",
        "## 3.1 RNNs\n",
        "Given an RNN, with a single layer, that has been trained and is used to generate new outputs, like the one in the figure below:\n",
        "\n",
        "<center><img src=\"https://drive.google.com/uc?id=1GmEyTghDKdkBx0gbFrw_KOn6zuKbNaHc\" width=\"500\"/></center>\n",
        "\n",
        "[link to the figure](https://drive.google.com/file/d/1GmEyTghDKdkBx0gbFrw_KOn6zuKbNaHc/view?usp=share_link) in case you cannot see it in the notebook.\n",
        "\n",
        "<br>\n",
        "\n",
        "If the dimension of my hidden vector is 151, and the dimension of my input and output is 101, what are the sizes of the matrices $W_{hh}$, $W_{xh}$ and $W_{hy}$?"
      ]
    },
    {
      "cell_type": "markdown",
      "metadata": {
        "id": "gq0C8m7tE2nI"
      },
      "source": [
        "$W_{hh}$:\n",
        "- 151 rows\n",
        "- 151 columns\n",
        "\n",
        "$W_{xh}$:\n",
        "- 151 rows\n",
        "- 101 columns\n",
        "\n",
        "$W_{hy}$:\n",
        "- 101 rows\n",
        "- 151 columns"
      ]
    },
    {
      "cell_type": "markdown",
      "metadata": {
        "id": "ghBiKUUAE81H"
      },
      "source": [
        "W_hh are hidden to hidden weights. It takes hidden state h0 with dimension 151 and produces part of the input to the tanh activation and must map from hidden dimension to hidden dimension.\n",
        "\n",
        "W_xh are input-to-hidden weights. It takes input x1 with dimension 101 and produces part of the input to the tanh activation and must map from input dimension to hidden dimension.\n",
        "\n",
        "W_yh are hidden-to-output weights. Takes hidden state h1 with dimension 151 and produces output y1 with dimension 101. It must map from hidden dimension to output dimension."
      ]
    },
    {
      "cell_type": "markdown",
      "metadata": {
        "id": "EZgBF-ifE8sa"
      },
      "source": [
        "## 3.2 LSTMs\n",
        "Indicate which of the following statements is False, and explain why:\n",
        "\n",
        "a) LSTMs have two vectors that are passed: the cell state and the hidden state. The cell state is responsible for keeping 'longer term' memory in the system.\n",
        "\n",
        "b) The activations functions of the various gates in an LSTM are tanh, so that they can act as 'continuous switches' to pass or not pass information."
      ]
    },
    {
      "cell_type": "markdown",
      "metadata": {
        "id": "DgfVMSh0FBlm"
      },
      "source": [
        "The false statement is b.\n",
        "\n",
        "Statement A is true since LSTMs pass both cell state and hidden state between time steps. Aswell it is true that the cell state is responsible for long term memory of the model while hidden state is responsilbe for working memory.\n",
        "\n",
        "Statement B is false as not all activation functions in a LSTM are tanh. The Gate activations are performed using the sigmoid function not tanh."
      ]
    },
    {
      "cell_type": "markdown",
      "metadata": {
        "id": "h0ChKGN2FCAn"
      },
      "source": [
        "## 3.3 Transformers\n",
        "\n",
        "- In the attention layers of a transformer, how are the keys, queries, and values calculated and combined? Explain what elements of the layer are learned during training."
      ]
    },
    {
      "cell_type": "markdown",
      "metadata": {
        "id": "Dm5JgcJiFFZa"
      },
      "source": [
        "All three parameters are similar in structure, with each word in the sequence represented by a vector. Three separatly learned weights tranform each of the Queries, Keys and Values respectively.\n",
        "\n",
        "The attention mechanism follows this formula: Attention(Q,K,V) = softmax(QK^T / √d_k) × V\n",
        "\n",
        "where dividing by √d_k prevents extremely large values that would saturate the softmax. Softmax is applied normalise the probabilities and then the  attention weights are multiplied by values to get final output.\n",
        "\n",
        "This calculation happens across multiple heads. Each head has its own W_Q, W_K, W_V matrices where the outputs are concatenated and passed through a final learned projection W_O.\n",
        "\n",
        "The input is multiplied by the Query matrix to map it to the query space, which represents what information each word is looking for from other words in the sequence. Multiplying the input with the Key matrix maps it to the key space, which represents what information each word has available to offer. A dot product is taken between the query and key matrices to compute compatibility scores. If the result is large it indicates that one word contains information that another word finds relevant. These scores are normalised with softmax to create attention weights, which are then multiplied by the Value vectors. The Value vectors contain the actual information content that gets retrieved and combined. This process allows each word to create a new contextual representation by gathering relevant information from other words in the sequence based on learned attention patterns."
      ]
    },
    {
      "cell_type": "markdown",
      "metadata": {
        "id": "GM1bybksFFyQ"
      },
      "source": [
        "- After data has gone through the final linear layer of the translation transformer introduced in the paper 'Attention is all you need', what is the shape (dimensions) of the data and how is it converted into words (or tokens)?"
      ]
    },
    {
      "cell_type": "markdown",
      "metadata": {
        "id": "f5O_NTD8FJhf"
      },
      "source": [
        "After the final layer the shape of the data is (batch_size, target_sequence_length, vocabulary_size).\n",
        "\n",
        "Each position in the output sequence holds a vector of scores over the entire vocabulary. These scores are passed through a softmax to produce probability distributions over possible next tokens. It then selects actual token IDs from these distributions either by taking the highest probability token or by sampling strategies. These IDs are then mapped back into words or subword units using the model's vocabulary and tokeniser."
      ]
    },
    {
      "cell_type": "code",
      "source": [],
      "metadata": {
        "id": "KDk8VxioEaow"
      },
      "execution_count": null,
      "outputs": []
    }
  ],
  "metadata": {
    "colab": {
      "provenance": []
    },
    "kernelspec": {
      "display_name": "Python 3 (ipykernel)",
      "language": "python",
      "name": "python3"
    },
    "language_info": {
      "codemirror_mode": {
        "name": "ipython",
        "version": 3
      },
      "file_extension": ".py",
      "mimetype": "text/x-python",
      "name": "python",
      "nbconvert_exporter": "python",
      "pygments_lexer": "ipython3",
      "version": "3.11.6"
    }
  },
  "nbformat": 4,
  "nbformat_minor": 0
}